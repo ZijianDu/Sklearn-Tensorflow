{
 "cells": [
  {
   "cell_type": "code",
   "execution_count": 1,
   "metadata": {
    "collapsed": true
   },
   "outputs": [],
   "source": [
    "# SVM is versatile in classification, regression and outlier detection for linear and nonlinear model. Very suitable for\n",
    "# medium to small datasets"
   ]
  },
  {
   "cell_type": "code",
   "execution_count": 2,
   "metadata": {
    "collapsed": true
   },
   "outputs": [],
   "source": [
    "# hard margin classifier: that all the instances must be correctly separated. which works only for linearly separable data\n",
    "# and sensitive to outliers. \n",
    "# soft margin classifier: regularization is added to not overfit the data, tradeoff between maximum margin and the violation numbers\n"
   ]
  },
  {
   "cell_type": "code",
   "execution_count": 3,
   "metadata": {
    "collapsed": true
   },
   "outputs": [],
   "source": [
    "import numpy as np\n",
    "from sklearn import datasets\n",
    "from sklearn.pipeline import Pipeline\n",
    "from sklearn.preprocessing import StandardScaler\n",
    "from sklearn.svm import LinearSVC"
   ]
  },
  {
   "cell_type": "code",
   "execution_count": 4,
   "metadata": {
    "collapsed": true
   },
   "outputs": [],
   "source": [
    "iris = datasets.load_iris()"
   ]
  },
  {
   "cell_type": "code",
   "execution_count": 5,
   "metadata": {
    "collapsed": true
   },
   "outputs": [],
   "source": [
    "X = iris[\"data\"][:,(2,3)]\n",
    "y = (iris[\"target\"] ==2).astype(np.float64)\n"
   ]
  },
  {
   "cell_type": "code",
   "execution_count": 6,
   "metadata": {
    "collapsed": true
   },
   "outputs": [],
   "source": [
    "svm_clf = Pipeline([\n",
    "(\"scaler\", StandardScaler()),\n",
    "(\"linear_svc\", LinearSVC(C=1, loss = 'hinge')),\n",
    "])"
   ]
  },
  {
   "cell_type": "code",
   "execution_count": 7,
   "metadata": {},
   "outputs": [
    {
     "data": {
      "text/plain": [
       "Pipeline(memory=None,\n",
       "     steps=[('scaler', StandardScaler(copy=True, with_mean=True, with_std=True)), ('linear_svc', LinearSVC(C=1, class_weight=None, dual=True, fit_intercept=True,\n",
       "     intercept_scaling=1, loss='hinge', max_iter=1000, multi_class='ovr',\n",
       "     penalty='l2', random_state=None, tol=0.0001, verbose=0))])"
      ]
     },
     "execution_count": 7,
     "metadata": {},
     "output_type": "execute_result"
    }
   ],
   "source": [
    "svm_clf.fit(X,y)"
   ]
  },
  {
   "cell_type": "code",
   "execution_count": 8,
   "metadata": {},
   "outputs": [
    {
     "data": {
      "text/plain": [
       "array([ 1.])"
      ]
     },
     "execution_count": 8,
     "metadata": {},
     "output_type": "execute_result"
    }
   ],
   "source": [
    "svm_clf.predict([[5.5, 1.6]])"
   ]
  },
  {
   "cell_type": "code",
   "execution_count": 9,
   "metadata": {
    "collapsed": true
   },
   "outputs": [],
   "source": [
    "# nonlinear SVM: using nonlinear transformation like polynomial to make unseparable data separable\n",
    "from sklearn.datasets import make_moons\n",
    "from sklearn.pipeline import Pipeline\n",
    "from sklearn.preprocessing import PolynomialFeatures\n",
    "polynomial_svm_clf = Pipeline((\n",
    "(\"poly_features\", PolynomialFeatures(degree = 3)),\n",
    "(\"scaler\", StandardScaler()),\n",
    "(\"SVM_clf\", LinearSVC(C = 10, loss ='hinge'))\n",
    "))"
   ]
  },
  {
   "cell_type": "code",
   "execution_count": 10,
   "metadata": {},
   "outputs": [
    {
     "data": {
      "text/plain": [
       "Pipeline(memory=None,\n",
       "     steps=[('poly_features', PolynomialFeatures(degree=3, include_bias=True, interaction_only=False)), ('scaler', StandardScaler(copy=True, with_mean=True, with_std=True)), ('SVM_clf', LinearSVC(C=10, class_weight=None, dual=True, fit_intercept=True,\n",
       "     intercept_scaling=1, loss='hinge', max_iter=1000, multi_class='ovr',\n",
       "     penalty='l2', random_state=None, tol=0.0001, verbose=0))])"
      ]
     },
     "execution_count": 10,
     "metadata": {},
     "output_type": "execute_result"
    }
   ],
   "source": [
    "polynomial_svm_clf.fit(X, y)"
   ]
  },
  {
   "cell_type": "code",
   "execution_count": 11,
   "metadata": {
    "collapsed": true
   },
   "outputs": [],
   "source": [
    "# polynomial features: kernal trick can be implemented by using SVC class\n",
    "from sklearn.svm import SVC\n",
    "poly_kernal_svm_clf = Pipeline((\n",
    "(\"scaler\", StandardScaler()),\n",
    "(\"svm_clf\", SVC(kernel = 'poly', degree = 3, coef0 = 1, C = 5))\n",
    "))\n",
    "# we can use a gridsearchcv to obtain the possible best hyperparameter: d, r and C"
   ]
  },
  {
   "cell_type": "code",
   "execution_count": 12,
   "metadata": {},
   "outputs": [
    {
     "data": {
      "text/plain": [
       "Pipeline(memory=None,\n",
       "     steps=[('scaler', StandardScaler(copy=True, with_mean=True, with_std=True)), ('svm_clf', SVC(C=0.001, cache_size=200, class_weight=None, coef0=0.0,\n",
       "  decision_function_shape='ovr', degree=3, gamma=5, kernel='rbf',\n",
       "  max_iter=-1, probability=False, random_state=None, shrinking=True,\n",
       "  tol=0.001, verbose=False))])"
      ]
     },
     "execution_count": 12,
     "metadata": {},
     "output_type": "execute_result"
    }
   ],
   "source": [
    "#RBF kernel: measurement of similarity feature: can map a linearly nonseparable dataset to separable data in transformed domain\n",
    "rbf_kernel_svm_clf = Pipeline((\n",
    "(\"scaler\", StandardScaler()),\n",
    "('svm_clf', SVC(kernel = 'rbf', gamma = 5, C = 0.001))\n",
    "))\n",
    "rbf_kernel_svm_clf.fit(X, y)\n",
    "# note the hyperparameters gamma and C, which decide the shape of the gaussian function, hence decides the sensitivity of the\n",
    "# decision boundary to individual data points"
   ]
  },
  {
   "cell_type": "code",
   "execution_count": 13,
   "metadata": {
    "collapsed": true
   },
   "outputs": [],
   "source": [
    "# Support vector regression: modify the objective of SVC: which is to fit as many instance on the separating margin (street)\n",
    "# as possible while maintaining limiting margin violations"
   ]
  },
  {
   "cell_type": "code",
   "execution_count": 14,
   "metadata": {},
   "outputs": [
    {
     "data": {
      "text/plain": [
       "LinearSVR(C=1.0, dual=True, epsilon=1.5, fit_intercept=True,\n",
       "     intercept_scaling=1.0, loss='epsilon_insensitive', max_iter=1000,\n",
       "     random_state=None, tol=0.0001, verbose=0)"
      ]
     },
     "execution_count": 14,
     "metadata": {},
     "output_type": "execute_result"
    }
   ],
   "source": [
    "# linear regression using support vector, equivalent to LinearSVC\n",
    "from sklearn.svm import LinearSVR\n",
    "svm_reg = LinearSVR(epsilon = 1.5)\n",
    "svm_reg.fit(X, y)"
   ]
  },
  {
   "cell_type": "code",
   "execution_count": 15,
   "metadata": {},
   "outputs": [
    {
     "data": {
      "text/plain": [
       "SVR(C=100, cache_size=200, coef0=0.0, degree=2, epsilon=0.1, gamma='auto',\n",
       "  kernel='poly', max_iter=-1, shrinking=True, tol=0.001, verbose=False)"
      ]
     },
     "execution_count": 15,
     "metadata": {},
     "output_type": "execute_result"
    }
   ],
   "source": [
    "# we can also do non linear regression: use kernelized SVM model.\n",
    "from sklearn.svm import SVR\n",
    "svm_poly_reg = SVR(kernel = 'poly', degree = 2, C = 100, epsilon = 0.1)\n",
    "svm_poly_reg.fit(X, y)"
   ]
  },
  {
   "cell_type": "code",
   "execution_count": 16,
   "metadata": {
    "collapsed": true
   },
   "outputs": [],
   "source": [
    "# some exercise: using SVM to do mnist classification\n",
    "from sklearn.datasets import fetch_mldata\n",
    "mnist = fetch_mldata(\"MNIST original\")\n",
    "X = mnist[\"data\"]\n",
    "y = mnist[\"target\"]"
   ]
  },
  {
   "cell_type": "code",
   "execution_count": 17,
   "metadata": {
    "collapsed": true
   },
   "outputs": [],
   "source": [
    "X_train = X[:60000]\n",
    "X_test = X[60000:]\n",
    "y_train = y[:60000]\n",
    "y_test = y[60000:]"
   ]
  },
  {
   "cell_type": "code",
   "execution_count": 18,
   "metadata": {
    "collapsed": true
   },
   "outputs": [],
   "source": [
    "# shuffle the training and testing data of course\n",
    "np.random.seed(42)\n",
    "rnd_idx = np.random.permutation(60000)"
   ]
  },
  {
   "cell_type": "code",
   "execution_count": 19,
   "metadata": {
    "collapsed": true
   },
   "outputs": [],
   "source": [
    "X_train = X_train[rnd_idx]\n",
    "y_train = y_train[rnd_idx]"
   ]
  },
  {
   "cell_type": "code",
   "execution_count": 20,
   "metadata": {},
   "outputs": [
    {
     "data": {
      "text/plain": [
       "LinearSVC(C=1.0, class_weight=None, dual=True, fit_intercept=True,\n",
       "     intercept_scaling=1, loss='squared_hinge', max_iter=1000,\n",
       "     multi_class='ovr', penalty='l2', random_state=42, tol=0.0001,\n",
       "     verbose=0)"
      ]
     },
     "execution_count": 20,
     "metadata": {},
     "output_type": "execute_result"
    }
   ],
   "source": [
    "# firstly use a linear SVM classifier, it will automatically turn \n",
    "# into a one vs all classifier\n",
    "lin_clf = LinearSVC(random_state = 42)\n",
    "lin_clf.fit(X_train, y_train)"
   ]
  },
  {
   "cell_type": "code",
   "execution_count": 21,
   "metadata": {},
   "outputs": [
    {
     "data": {
      "text/plain": [
       "0.85375000000000001"
      ]
     },
     "execution_count": 21,
     "metadata": {},
     "output_type": "execute_result"
    }
   ],
   "source": [
    "from sklearn.metrics import accuracy_score\n",
    "y_predict = lin_clf.predict(X_train)\n",
    "accuracy_score(y_predict,y_train)"
   ]
  },
  {
   "cell_type": "code",
   "execution_count": 22,
   "metadata": {
    "collapsed": true
   },
   "outputs": [],
   "source": [
    "# 0.8 is bad. we can try to scale the data first before we train\n",
    "scaler = StandardScaler()\n",
    "X_train_scaled = scaler.fit_transform(X_train.astype(np.float32))\n",
    "X_test_sclaed = scaler.transform(X_test.astype(np.float32))"
   ]
  },
  {
   "cell_type": "code",
   "execution_count": 23,
   "metadata": {},
   "outputs": [
    {
     "data": {
      "text/plain": [
       "LinearSVC(C=1.0, class_weight=None, dual=True, fit_intercept=True,\n",
       "     intercept_scaling=1, loss='squared_hinge', max_iter=1000,\n",
       "     multi_class='ovr', penalty='l2', random_state=42, tol=0.0001,\n",
       "     verbose=0)"
      ]
     },
     "execution_count": 23,
     "metadata": {},
     "output_type": "execute_result"
    }
   ],
   "source": [
    "# now we see the score\n",
    "lin_clf = LinearSVC(random_state = 42)\n",
    "lin_clf.fit(X_train_scaled, y_train)"
   ]
  },
  {
   "cell_type": "code",
   "execution_count": 24,
   "metadata": {},
   "outputs": [
    {
     "data": {
      "text/plain": [
       "0.9204"
      ]
     },
     "execution_count": 24,
     "metadata": {},
     "output_type": "execute_result"
    }
   ],
   "source": [
    "# now calculate the accuracy\n",
    "y_predict = lin_clf.predict(X_train_scaled)\n",
    "accuracy_score(y_train, y_predict)"
   ]
  },
  {
   "cell_type": "code",
   "execution_count": 25,
   "metadata": {},
   "outputs": [
    {
     "data": {
      "text/plain": [
       "SVC(C=1.0, cache_size=200, class_weight=None, coef0=0.0,\n",
       "  decision_function_shape='ovr', degree=3, gamma='auto', kernel='rbf',\n",
       "  max_iter=-1, probability=False, random_state=None, shrinking=True,\n",
       "  tol=0.001, verbose=False)"
      ]
     },
     "execution_count": 25,
     "metadata": {},
     "output_type": "execute_result"
    }
   ],
   "source": [
    "svm_clf = SVC(decision_function_shape=\"ovr\")\n",
    "svm_clf.fit(X_train_scaled[:10000], y_train[:10000])"
   ]
  },
  {
   "cell_type": "code",
   "execution_count": 26,
   "metadata": {
    "scrolled": true
   },
   "outputs": [
    {
     "ename": "NameError",
     "evalue": "name 'accuracy' is not defined",
     "output_type": "error",
     "traceback": [
      "\u001b[1;31m---------------------------------------------------------------------------\u001b[0m",
      "\u001b[1;31mNameError\u001b[0m                                 Traceback (most recent call last)",
      "\u001b[1;32m<ipython-input-26-9e9965ce9555>\u001b[0m in \u001b[0;36m<module>\u001b[1;34m()\u001b[0m\n\u001b[0;32m      2\u001b[0m \u001b[1;31m# see the accuracy\u001b[0m\u001b[1;33m\u001b[0m\u001b[1;33m\u001b[0m\u001b[0m\n\u001b[0;32m      3\u001b[0m \u001b[0my_predict\u001b[0m \u001b[1;33m=\u001b[0m \u001b[0msvm_clf\u001b[0m\u001b[1;33m.\u001b[0m\u001b[0mpredict\u001b[0m\u001b[1;33m(\u001b[0m\u001b[0mX_train_scaled\u001b[0m\u001b[1;33m)\u001b[0m\u001b[1;33m\u001b[0m\u001b[0m\n\u001b[1;32m----> 4\u001b[1;33m \u001b[0maccuracy\u001b[0m\u001b[1;33m(\u001b[0m\u001b[0my_predict\u001b[0m\u001b[1;33m,\u001b[0m \u001b[0my_train\u001b[0m\u001b[1;33m)\u001b[0m\u001b[1;33m\u001b[0m\u001b[0m\n\u001b[0m",
      "\u001b[1;31mNameError\u001b[0m: name 'accuracy' is not defined"
     ]
    }
   ],
   "source": [
    "# now we used RBF kernel using SVC which is default.\n",
    "# see the accuracy\n",
    "y_predict = svm_clf.predict(X_train_scaled)\n"
   ]
  },
  {
   "cell_type": "code",
   "execution_count": 28,
   "metadata": {},
   "outputs": [
    {
     "data": {
      "text/plain": [
       "0.94615000000000005"
      ]
     },
     "execution_count": 28,
     "metadata": {},
     "output_type": "execute_result"
    }
   ],
   "source": [
    "# much higher accuracy score using nonlinear kernel\n",
    "accuracy_score(y_predict, y_train)"
   ]
  },
  {
   "cell_type": "code",
   "execution_count": 29,
   "metadata": {},
   "outputs": [
    {
     "name": "stdout",
     "output_type": "stream",
     "text": [
      "Fitting 3 folds for each of 10 candidates, totalling 30 fits\n",
      "[CV] C=8.85231605842, gamma=0.00176607465048 .........................\n",
      "[CV] .......... C=8.85231605842, gamma=0.00176607465048, total=   0.8s\n",
      "[CV] C=8.85231605842, gamma=0.00176607465048 .........................\n"
     ]
    },
    {
     "name": "stderr",
     "output_type": "stream",
     "text": [
      "[Parallel(n_jobs=1)]: Done   1 out of   1 | elapsed:    1.3s remaining:    0.0s\n"
     ]
    },
    {
     "name": "stdout",
     "output_type": "stream",
     "text": [
      "[CV] .......... C=8.85231605842, gamma=0.00176607465048, total=   0.9s\n",
      "[CV] C=8.85231605842, gamma=0.00176607465048 .........................\n",
      "[CV] .......... C=8.85231605842, gamma=0.00176607465048, total=   0.8s\n",
      "[CV] C=1.82719601047, gamma=0.00636473705545 .........................\n",
      "[CV] .......... C=1.82719601047, gamma=0.00636473705545, total=   1.2s\n",
      "[CV] C=1.82719601047, gamma=0.00636473705545 .........................\n",
      "[CV] .......... C=1.82719601047, gamma=0.00636473705545, total=   1.0s\n",
      "[CV] C=1.82719601047, gamma=0.00636473705545 .........................\n",
      "[CV] .......... C=1.82719601047, gamma=0.00636473705545, total=   1.0s\n",
      "[CV] C=9.87519919377, gamma=0.0513498334519 ..........................\n",
      "[CV] ........... C=9.87519919377, gamma=0.0513498334519, total=   1.1s\n",
      "[CV] C=9.87519919377, gamma=0.0513498334519 ..........................\n",
      "[CV] ........... C=9.87519919377, gamma=0.0513498334519, total=   1.0s\n",
      "[CV] C=9.87519919377, gamma=0.0513498334519 ..........................\n",
      "[CV] ........... C=9.87519919377, gamma=0.0513498334519, total=   1.0s\n",
      "[CV] C=6.59992909281, gamma=0.0599166657847 ..........................\n",
      "[CV] ........... C=6.59992909281, gamma=0.0599166657847, total=   1.0s\n",
      "[CV] C=6.59992909281, gamma=0.0599166657847 ..........................\n",
      "[CV] ........... C=6.59992909281, gamma=0.0599166657847, total=   1.0s\n",
      "[CV] C=6.59992909281, gamma=0.0599166657847 ..........................\n",
      "[CV] ........... C=6.59992909281, gamma=0.0599166657847, total=   1.0s\n",
      "[CV] C=9.05343597549, gamma=0.00359649052253 .........................\n",
      "[CV] .......... C=9.05343597549, gamma=0.00359649052253, total=   0.9s\n",
      "[CV] C=9.05343597549, gamma=0.00359649052253 .........................\n",
      "[CV] .......... C=9.05343597549, gamma=0.00359649052253, total=   0.9s\n",
      "[CV] C=9.05343597549, gamma=0.00359649052253 .........................\n",
      "[CV] .......... C=9.05343597549, gamma=0.00359649052253, total=   0.9s\n",
      "[CV] C=2.70106280446, gamma=0.00400233099291 .........................\n",
      "[CV] .......... C=2.70106280446, gamma=0.00400233099291, total=   0.9s\n",
      "[CV] C=2.70106280446, gamma=0.00400233099291 .........................\n",
      "[CV] .......... C=2.70106280446, gamma=0.00400233099291, total=   0.9s\n",
      "[CV] C=2.70106280446, gamma=0.00400233099291 .........................\n",
      "[CV] .......... C=2.70106280446, gamma=0.00400233099291, total=   0.9s\n",
      "[CV] C=3.27117878439, gamma=0.0175969575075 ..........................\n",
      "[CV] ........... C=3.27117878439, gamma=0.0175969575075, total=   1.0s\n",
      "[CV] C=3.27117878439, gamma=0.0175969575075 ..........................\n",
      "[CV] ........... C=3.27117878439, gamma=0.0175969575075, total=   1.0s\n",
      "[CV] C=3.27117878439, gamma=0.0175969575075 ..........................\n",
      "[CV] ........... C=3.27117878439, gamma=0.0175969575075, total=   1.0s\n",
      "[CV] C=6.84899112775, gamma=0.0157352905643 ..........................\n",
      "[CV] ........... C=6.84899112775, gamma=0.0157352905643, total=   1.0s\n",
      "[CV] C=6.84899112775, gamma=0.0157352905643 ..........................\n",
      "[CV] ........... C=6.84899112775, gamma=0.0157352905643, total=   1.0s\n",
      "[CV] C=6.84899112775, gamma=0.0157352905643 ..........................\n",
      "[CV] ........... C=6.84899112775, gamma=0.0157352905643, total=   1.0s\n",
      "[CV] C=2.89303536491, gamma=0.0383464752611 ..........................\n",
      "[CV] ........... C=2.89303536491, gamma=0.0383464752611, total=   1.0s\n",
      "[CV] C=2.89303536491, gamma=0.0383464752611 ..........................\n",
      "[CV] ........... C=2.89303536491, gamma=0.0383464752611, total=   1.0s\n",
      "[CV] C=2.89303536491, gamma=0.0383464752611 ..........................\n",
      "[CV] ........... C=2.89303536491, gamma=0.0383464752611, total=   1.0s\n",
      "[CV] C=5.33626083543, gamma=0.0088085381726 ..........................\n",
      "[CV] ........... C=5.33626083543, gamma=0.0088085381726, total=   1.0s\n",
      "[CV] C=5.33626083543, gamma=0.0088085381726 ..........................\n",
      "[CV] ........... C=5.33626083543, gamma=0.0088085381726, total=   1.0s\n",
      "[CV] C=5.33626083543, gamma=0.0088085381726 ..........................\n",
      "[CV] ........... C=5.33626083543, gamma=0.0088085381726, total=   1.0s\n"
     ]
    },
    {
     "name": "stderr",
     "output_type": "stream",
     "text": [
      "[Parallel(n_jobs=1)]: Done  30 out of  30 | elapsed:   46.2s finished\n"
     ]
    },
    {
     "data": {
      "text/plain": [
       "RandomizedSearchCV(cv=None, error_score='raise',\n",
       "          estimator=SVC(C=1.0, cache_size=200, class_weight=None, coef0=0.0,\n",
       "  decision_function_shape='ovr', degree=3, gamma='auto', kernel='rbf',\n",
       "  max_iter=-1, probability=False, random_state=None, shrinking=True,\n",
       "  tol=0.001, verbose=False),\n",
       "          fit_params=None, iid=True, n_iter=10, n_jobs=1,\n",
       "          param_distributions={'gamma': <scipy.stats._distn_infrastructure.rv_frozen object at 0x0000019C800A5588>, 'C': <scipy.stats._distn_infrastructure.rv_frozen object at 0x0000019C800A5A90>},\n",
       "          pre_dispatch='2*n_jobs', random_state=None, refit=True,\n",
       "          return_train_score='warn', scoring=None, verbose=2)"
      ]
     },
     "execution_count": 29,
     "metadata": {},
     "output_type": "execute_result"
    }
   ],
   "source": [
    "# now we can perform a randomized search to optimize the hyperparameters\n",
    "from sklearn.model_selection import RandomizedSearchCV\n",
    "from scipy.stats import reciprocal, uniform\n",
    "param_distributions = {\"gamma\": reciprocal(0.001, 0.1), \"C\": uniform(1, 10)}\n",
    "rnd_search_cv = RandomizedSearchCV(svm_clf, param_distributions, n_iter= 10,\n",
    "                                  verbose = 2)\n",
    "rnd_search_cv.fit(X_train_scaled[:1000], y_train[:1000])"
   ]
  },
  {
   "cell_type": "code",
   "execution_count": 31,
   "metadata": {},
   "outputs": [
    {
     "data": {
      "text/plain": [
       "SVC(C=8.8523160584230869, cache_size=200, class_weight=None, coef0=0.0,\n",
       "  decision_function_shape='ovr', degree=3, gamma=0.001766074650481071,\n",
       "  kernel='rbf', max_iter=-1, probability=False, random_state=None,\n",
       "  shrinking=True, tol=0.001, verbose=False)"
      ]
     },
     "execution_count": 31,
     "metadata": {},
     "output_type": "execute_result"
    }
   ],
   "source": [
    "# obtain the best estimator\n",
    "# we can use this way to obtain the best estimator hyperparameter \n",
    "# combination\n",
    "rnd_search_cv.best_estimator_"
   ]
  },
  {
   "cell_type": "code",
   "execution_count": 33,
   "metadata": {},
   "outputs": [
    {
     "data": {
      "text/plain": [
       "0.85599999999999998"
      ]
     },
     "execution_count": 33,
     "metadata": {},
     "output_type": "execute_result"
    }
   ],
   "source": [
    "# obtain the best accuracy\n",
    "rnd_search_cv.best_score_"
   ]
  },
  {
   "cell_type": "code",
   "execution_count": 38,
   "metadata": {},
   "outputs": [],
   "source": [
    "# we can use the best hyperparameter to predict the data\n",
    "y_predict = rnd_search_cv.best_estimator_.fit(X_train_scaled, y_train)"
   ]
  },
  {
   "cell_type": "code",
   "execution_count": 40,
   "metadata": {},
   "outputs": [],
   "source": [
    "y_predict = rnd_search_cv.best_estimator_.predict(X_train_scaled)"
   ]
  },
  {
   "cell_type": "code",
   "execution_count": 42,
   "metadata": {},
   "outputs": [
    {
     "data": {
      "text/plain": [
       "0.99965000000000004"
      ]
     },
     "execution_count": 42,
     "metadata": {},
     "output_type": "execute_result"
    }
   ],
   "source": [
    "accuracy_score(y_train, y_predict)"
   ]
  },
  {
   "cell_type": "code",
   "execution_count": 55,
   "metadata": {},
   "outputs": [
    {
     "name": "stderr",
     "output_type": "stream",
     "text": [
      "C:\\Users\\Leo Du\\Anaconda3\\lib\\site-packages\\sklearn\\utils\\validation.py:475: DataConversionWarning: Data with input dtype uint8 was converted to float64 by StandardScaler.\n",
      "  warnings.warn(msg, DataConversionWarning)\n"
     ]
    },
    {
     "data": {
      "text/plain": [
       "(64000,)"
      ]
     },
     "execution_count": 55,
     "metadata": {},
     "output_type": "execute_result"
    }
   ],
   "source": [
    "# scale the test data\n",
    "scaler = StandardScaler()\n",
    "X_test_scaled = scaler.fit_transform(X[60000:])\n",
    "X_test_scaled\n",
    "y_test.shape"
   ]
  },
  {
   "cell_type": "code",
   "execution_count": 56,
   "metadata": {},
   "outputs": [
    {
     "data": {
      "text/plain": [
       "0.97050000000000003"
      ]
     },
     "execution_count": 56,
     "metadata": {},
     "output_type": "execute_result"
    }
   ],
   "source": [
    "# realize that even this number is close to 1, it is done on\n",
    "# training data hence it could be overfitting, we need to see the \n",
    "# real testing data\n",
    "y_prediction_test = rnd_search_cv.best_estimator_.predict(X_test_scaled)\n",
    "accuracy_score(y[60000:], y_prediction_test)"
   ]
  },
  {
   "cell_type": "code",
   "execution_count": 58,
   "metadata": {
    "collapsed": true
   },
   "outputs": [],
   "source": [
    "# now we see that the accuracy is not as high as training set"
   ]
  },
  {
   "cell_type": "code",
   "execution_count": 59,
   "metadata": {},
   "outputs": [
    {
     "name": "stderr",
     "output_type": "stream",
     "text": [
      "Downloading Cal. housing from https://ndownloader.figshare.com/files/5976036 to C:\\Users\\Leo Du\\scikit_learn_data\n"
     ]
    }
   ],
   "source": [
    "# train a SVM regressor on the California housing dataset\n",
    "from sklearn.datasets import fetch_california_housing\n",
    "housing = fetch_california_housing()\n",
    "X = housing[\"data\"]\n",
    "y = housing[\"target\"]"
   ]
  },
  {
   "cell_type": "code",
   "execution_count": 60,
   "metadata": {
    "collapsed": true
   },
   "outputs": [],
   "source": [
    "from sklearn.model_selection import train_test_split\n",
    "X_train, X_test, y_train, y_test = train_test_split(X, y, test_size = 0.2, random_state = 42)"
   ]
  },
  {
   "cell_type": "code",
   "execution_count": 63,
   "metadata": {},
   "outputs": [],
   "source": [
    "from sklearn.preprocessing import StandardScaler\n",
    "scaler = StandardScaler()\n",
    "X_train_scaled = scaler.fit_transform(X_train)\n",
    "X_test_scaled = scaler.transform(X_test)"
   ]
  },
  {
   "cell_type": "code",
   "execution_count": 64,
   "metadata": {},
   "outputs": [
    {
     "data": {
      "text/plain": [
       "LinearSVR(C=1.0, dual=True, epsilon=0.0, fit_intercept=True,\n",
       "     intercept_scaling=1.0, loss='epsilon_insensitive', max_iter=1000,\n",
       "     random_state=42, tol=0.0001, verbose=0)"
      ]
     },
     "execution_count": 64,
     "metadata": {},
     "output_type": "execute_result"
    }
   ],
   "source": [
    "from sklearn.svm import LinearSVR\n",
    "lin_svr = LinearSVR(random_state= 42)\n",
    "lin_svr.fit(X_train_scaled, y_train)"
   ]
  },
  {
   "cell_type": "code",
   "execution_count": 66,
   "metadata": {},
   "outputs": [
    {
     "data": {
      "text/plain": [
       "0.96128066532972734"
      ]
     },
     "execution_count": 66,
     "metadata": {},
     "output_type": "execute_result"
    }
   ],
   "source": [
    "from sklearn.metrics import mean_squared_error\n",
    "y_prediction = lin_svr.predict(X_train_scaled)\n",
    "mse = mean_squared_error(y_train, y_prediction)\n",
    "mse"
   ]
  },
  {
   "cell_type": "code",
   "execution_count": 68,
   "metadata": {},
   "outputs": [
    {
     "data": {
      "text/plain": [
       "0.9804492160890983"
      ]
     },
     "execution_count": 68,
     "metadata": {},
     "output_type": "execute_result"
    }
   ],
   "source": [
    "# RMSE\n",
    "np.sqrt(mse)"
   ]
  },
  {
   "cell_type": "code",
   "execution_count": 69,
   "metadata": {},
   "outputs": [
    {
     "name": "stdout",
     "output_type": "stream",
     "text": [
      "Fitting 3 folds for each of 10 candidates, totalling 30 fits\n",
      "[CV] C=4.74540118847, gamma=0.0796945481864 ..........................\n",
      "[CV] ........... C=4.74540118847, gamma=0.0796945481864, total=   5.9s\n",
      "[CV] C=4.74540118847, gamma=0.0796945481864 ..........................\n"
     ]
    },
    {
     "name": "stderr",
     "output_type": "stream",
     "text": [
      "[Parallel(n_jobs=1)]: Done   1 out of   1 | elapsed:    7.8s remaining:    0.0s\n"
     ]
    },
    {
     "name": "stdout",
     "output_type": "stream",
     "text": [
      "[CV] ........... C=4.74540118847, gamma=0.0796945481864, total=   6.1s\n",
      "[CV] C=4.74540118847, gamma=0.0796945481864 ..........................\n",
      "[CV] ........... C=4.74540118847, gamma=0.0796945481864, total=   5.9s\n",
      "[CV] C=8.31993941811, gamma=0.0157513204998 ..........................\n",
      "[CV] ........... C=8.31993941811, gamma=0.0157513204998, total=   5.3s\n",
      "[CV] C=8.31993941811, gamma=0.0157513204998 ..........................\n",
      "[CV] ........... C=8.31993941811, gamma=0.0157513204998, total=   6.0s\n",
      "[CV] C=8.31993941811, gamma=0.0157513204998 ..........................\n",
      "[CV] ........... C=8.31993941811, gamma=0.0157513204998, total=   5.3s\n",
      "[CV] C=2.56018640442, gamma=0.00205111041884 .........................\n",
      "[CV] .......... C=2.56018640442, gamma=0.00205111041884, total=   4.7s\n",
      "[CV] C=2.56018640442, gamma=0.00205111041884 .........................\n",
      "[CV] .......... C=2.56018640442, gamma=0.00205111041884, total=   4.7s\n",
      "[CV] C=2.56018640442, gamma=0.00205111041884 .........................\n",
      "[CV] .......... C=2.56018640442, gamma=0.00205111041884, total=   4.7s\n",
      "[CV] C=1.58083612168, gamma=0.0539948440979 ..........................\n",
      "[CV] ........... C=1.58083612168, gamma=0.0539948440979, total=   5.1s\n",
      "[CV] C=1.58083612168, gamma=0.0539948440979 ..........................\n",
      "[CV] ........... C=1.58083612168, gamma=0.0539948440979, total=   4.9s\n",
      "[CV] C=1.58083612168, gamma=0.0539948440979 ..........................\n",
      "[CV] ........... C=1.58083612168, gamma=0.0539948440979, total=   5.3s\n",
      "[CV] C=7.01115011743, gamma=0.0260702475837 ..........................\n",
      "[CV] ........... C=7.01115011743, gamma=0.0260702475837, total=   5.4s\n",
      "[CV] C=7.01115011743, gamma=0.0260702475837 ..........................\n",
      "[CV] ........... C=7.01115011743, gamma=0.0260702475837, total=   5.3s\n",
      "[CV] C=7.01115011743, gamma=0.0260702475837 ..........................\n",
      "[CV] ........... C=7.01115011743, gamma=0.0260702475837, total=   5.4s\n",
      "[CV] C=1.20584494296, gamma=0.087060208783 ...........................\n",
      "[CV] ............ C=1.20584494296, gamma=0.087060208783, total=   4.7s\n",
      "[CV] C=1.20584494296, gamma=0.087060208783 ...........................\n",
      "[CV] ............ C=1.20584494296, gamma=0.087060208783, total=   4.7s\n",
      "[CV] C=1.20584494296, gamma=0.087060208783 ...........................\n",
      "[CV] ............ C=1.20584494296, gamma=0.087060208783, total=   4.7s\n",
      "[CV] C=9.324426408, gamma=0.00265875439833 ...........................\n",
      "[CV] ............ C=9.324426408, gamma=0.00265875439833, total=   4.9s\n",
      "[CV] C=9.324426408, gamma=0.00265875439833 ...........................\n",
      "[CV] ............ C=9.324426408, gamma=0.00265875439833, total=   4.8s\n",
      "[CV] C=9.324426408, gamma=0.00265875439833 ...........................\n",
      "[CV] ............ C=9.324426408, gamma=0.00265875439833, total=   4.8s\n",
      "[CV] C=2.81824967207, gamma=0.00232706770838 .........................\n",
      "[CV] .......... C=2.81824967207, gamma=0.00232706770838, total=   4.7s\n",
      "[CV] C=2.81824967207, gamma=0.00232706770838 .........................\n",
      "[CV] .......... C=2.81824967207, gamma=0.00232706770838, total=   4.8s\n",
      "[CV] C=2.81824967207, gamma=0.00232706770838 .........................\n",
      "[CV] .......... C=2.81824967207, gamma=0.00232706770838, total=   4.8s\n",
      "[CV] C=4.0424224296, gamma=0.0112076062119 ...........................\n",
      "[CV] ............ C=4.0424224296, gamma=0.0112076062119, total=   5.4s\n",
      "[CV] C=4.0424224296, gamma=0.0112076062119 ...........................\n",
      "[CV] ............ C=4.0424224296, gamma=0.0112076062119, total=   5.6s\n",
      "[CV] C=4.0424224296, gamma=0.0112076062119 ...........................\n",
      "[CV] ............ C=4.0424224296, gamma=0.0112076062119, total=   5.5s\n",
      "[CV] C=5.31945018642, gamma=0.00382347522468 .........................\n",
      "[CV] .......... C=5.31945018642, gamma=0.00382347522468, total=   5.7s\n",
      "[CV] C=5.31945018642, gamma=0.00382347522468 .........................\n",
      "[CV] .......... C=5.31945018642, gamma=0.00382347522468, total=   5.0s\n",
      "[CV] C=5.31945018642, gamma=0.00382347522468 .........................\n",
      "[CV] .......... C=5.31945018642, gamma=0.00382347522468, total=   5.6s\n"
     ]
    },
    {
     "name": "stderr",
     "output_type": "stream",
     "text": [
      "[Parallel(n_jobs=1)]: Done  30 out of  30 | elapsed:  3.6min finished\n"
     ]
    },
    {
     "data": {
      "text/plain": [
       "RandomizedSearchCV(cv=None, error_score='raise',\n",
       "          estimator=SVR(C=1.0, cache_size=200, coef0=0.0, degree=3, epsilon=0.1, gamma='auto',\n",
       "  kernel='rbf', max_iter=-1, shrinking=True, tol=0.001, verbose=False),\n",
       "          fit_params=None, iid=True, n_iter=10, n_jobs=1,\n",
       "          param_distributions={'gamma': <scipy.stats._distn_infrastructure.rv_frozen object at 0x0000019C8024FEF0>, 'C': <scipy.stats._distn_infrastructure.rv_frozen object at 0x0000019C800FFC18>},\n",
       "          pre_dispatch='2*n_jobs', random_state=42, refit=True,\n",
       "          return_train_score='warn', scoring=None, verbose=2)"
      ]
     },
     "execution_count": 69,
     "metadata": {},
     "output_type": "execute_result"
    }
   ],
   "source": [
    "# we can search for better hyperparameters\n",
    "from sklearn.svm import SVR\n",
    "from sklearn.model_selection import RandomizedSearchCV\n",
    "from scipy.stats import reciprocal, uniform\n",
    "param_distributions = {\"gamma\": reciprocal(0.001, 0.1),\n",
    "                      \"C\": uniform(1, 10)}\n",
    "rnd_search_cv = RandomizedSearchCV(SVR(), param_distributions, n_iter=10,\n",
    "                                  verbose = 2, random_state = 42)\n",
    "rnd_search_cv.fit(X_train_scaled, y_train)"
   ]
  },
  {
   "cell_type": "code",
   "execution_count": 70,
   "metadata": {},
   "outputs": [
    {
     "data": {
      "text/plain": [
       "SVR(C=4.7454011884736254, cache_size=200, coef0=0.0, degree=3, epsilon=0.1,\n",
       "  gamma=0.079694548186439285, kernel='rbf', max_iter=-1, shrinking=True,\n",
       "  tol=0.001, verbose=False)"
      ]
     },
     "execution_count": 70,
     "metadata": {},
     "output_type": "execute_result"
    }
   ],
   "source": [
    "rnd_search_cv.best_estimator_"
   ]
  },
  {
   "cell_type": "code",
   "execution_count": 71,
   "metadata": {
    "collapsed": true
   },
   "outputs": [],
   "source": [
    "y_prediction = rnd_search_cv.best_estimator_.predict(X_train_scaled)"
   ]
  },
  {
   "cell_type": "code",
   "execution_count": 74,
   "metadata": {},
   "outputs": [
    {
     "data": {
      "text/plain": [
       "0.57275247707853572"
      ]
     },
     "execution_count": 74,
     "metadata": {},
     "output_type": "execute_result"
    }
   ],
   "source": [
    "mse = mean_squared_error(y_train, y_prediction)\n",
    "np.sqrt(mse)"
   ]
  },
  {
   "cell_type": "code",
   "execution_count": 76,
   "metadata": {
    "collapsed": true
   },
   "outputs": [],
   "source": [
    "# now we use test data \n",
    "y_prediction = rnd_search_cv.best_estimator_.predict(X_test_scaled)"
   ]
  },
  {
   "cell_type": "code",
   "execution_count": 77,
   "metadata": {},
   "outputs": [
    {
     "data": {
      "text/plain": [
       "0.59291683855287458"
      ]
     },
     "execution_count": 77,
     "metadata": {},
     "output_type": "execute_result"
    }
   ],
   "source": [
    "mse = mean_squared_error(y_test, y_prediction)\n",
    "np.sqrt(mse)"
   ]
  }
 ],
 "metadata": {
  "kernelspec": {
   "display_name": "Python 3",
   "language": "python",
   "name": "python3"
  },
  "language_info": {
   "codemirror_mode": {
    "name": "ipython",
    "version": 3
   },
   "file_extension": ".py",
   "mimetype": "text/x-python",
   "name": "python",
   "nbconvert_exporter": "python",
   "pygments_lexer": "ipython3",
   "version": "3.6.3"
  }
 },
 "nbformat": 4,
 "nbformat_minor": 2
}
