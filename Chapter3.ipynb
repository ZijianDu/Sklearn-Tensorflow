{
 "cells": [
  {
   "cell_type": "code",
   "execution_count": 1,
   "metadata": {
    "collapsed": true
   },
   "outputs": [],
   "source": [
    "# sth about optimization using GD...\n",
    "# batch, minibatch, SGD..\n",
    "# simuated annealing.."
   ]
  },
  {
   "cell_type": "code",
   "execution_count": 2,
   "metadata": {},
   "outputs": [
    {
     "data": {
      "text/plain": [
       "array([[  2.51272158e+00],\n",
       "       [  1.86541816e-01],\n",
       "       [  1.38155657e+00],\n",
       "       [  5.89272637e-01],\n",
       "       [  3.71413331e+00],\n",
       "       [  9.76443530e-01],\n",
       "       [  9.26502809e-01],\n",
       "       [ -5.43566367e-01],\n",
       "       [  2.24964634e-01],\n",
       "       [  1.45955147e+00],\n",
       "       [ -4.04236969e-01],\n",
       "       [ -1.20418417e+00],\n",
       "       [  2.84801626e+00],\n",
       "       [  9.54759312e-01],\n",
       "       [ -1.35026847e+00],\n",
       "       [ -1.77206469e+00],\n",
       "       [  3.34174461e+00],\n",
       "       [  1.42088376e+00],\n",
       "       [  3.13565092e-01],\n",
       "       [  3.97304003e+00],\n",
       "       [ -1.12879024e+00],\n",
       "       [  3.19434276e+00],\n",
       "       [  3.95595433e+00],\n",
       "       [  1.41801329e-01],\n",
       "       [ -8.03526217e-01],\n",
       "       [  1.55906002e+00],\n",
       "       [  3.95726181e+00],\n",
       "       [  3.56045949e+00],\n",
       "       [ -1.29516787e+00],\n",
       "       [ -1.86692489e+00],\n",
       "       [ -1.49350397e+00],\n",
       "       [  1.74933197e+00],\n",
       "       [  7.80440168e-01],\n",
       "       [  2.29468910e+00],\n",
       "       [  1.27452111e+00],\n",
       "       [  8.33257866e-01],\n",
       "       [  2.43699801e+00],\n",
       "       [  8.51553747e-01],\n",
       "       [  2.06508126e+00],\n",
       "       [  2.40858559e+00],\n",
       "       [  2.00856527e-01],\n",
       "       [  6.09691353e-01],\n",
       "       [ -3.71571537e-01],\n",
       "       [  6.91004743e-01],\n",
       "       [ -8.28810745e-01],\n",
       "       [  1.99998998e+00],\n",
       "       [  1.27634775e+00],\n",
       "       [  3.93641148e+00],\n",
       "       [  1.37639804e+00],\n",
       "       [ -1.07724736e+00],\n",
       "       [  3.87116538e+00],\n",
       "       [  3.78850914e+00],\n",
       "       [  2.45219383e+00],\n",
       "       [ -1.25321626e-01],\n",
       "       [ -7.95403612e-01],\n",
       "       [  3.05861813e+00],\n",
       "       [ -2.17053048e-02],\n",
       "       [  5.82275920e-01],\n",
       "       [  1.71404759e+00],\n",
       "       [  1.85026399e+00],\n",
       "       [  1.32410318e+00],\n",
       "       [  3.96546570e-01],\n",
       "       [ -1.38933159e+00],\n",
       "       [ -7.56043972e-01],\n",
       "       [ -7.42821832e-01],\n",
       "       [  7.14065602e-01],\n",
       "       [  1.79010323e+00],\n",
       "       [  1.54856388e+00],\n",
       "       [  1.19624384e+00],\n",
       "       [  2.14875963e-03],\n",
       "       [  2.89183239e+00],\n",
       "       [ -2.41525571e-01],\n",
       "       [ -1.13131271e+00],\n",
       "       [  1.63894354e-01],\n",
       "       [  2.98769888e+00],\n",
       "       [  3.55702982e-01],\n",
       "       [  6.90684077e-01],\n",
       "       [  1.22671503e-01],\n",
       "       [  1.92166332e+00],\n",
       "       [  2.97095263e+00],\n",
       "       [ -7.29336243e-01],\n",
       "       [ -1.05984960e+00],\n",
       "       [  1.63510296e+00],\n",
       "       [ -6.12400191e-01],\n",
       "       [ -2.87748428e-01],\n",
       "       [ -2.19687633e-01],\n",
       "       [  4.70123376e-01],\n",
       "       [  6.45931084e-03],\n",
       "       [ -1.21729458e+00],\n",
       "       [  2.62799200e+00],\n",
       "       [  3.16554079e+00],\n",
       "       [  2.42461481e+00],\n",
       "       [ -1.67917190e+00],\n",
       "       [  2.32517575e+00],\n",
       "       [ -1.66400903e+00],\n",
       "       [  1.59862448e+00],\n",
       "       [ -1.81735085e+00],\n",
       "       [  1.75448028e+00],\n",
       "       [  5.60738291e-01],\n",
       "       [ -9.04702873e-01]])"
      ]
     },
     "execution_count": 2,
     "metadata": {},
     "output_type": "execute_result"
    }
   ],
   "source": [
    "# polynomial regression\n",
    "import numpy as np\n",
    "m = 100\n",
    "X = 6*np.random.rand(m, 1)-2\n",
    "y = 0.5*X**2+ X + 2 + np.random.randn(m, 1)\n",
    "X"
   ]
  },
  {
   "cell_type": "code",
   "execution_count": 3,
   "metadata": {},
   "outputs": [
    {
     "data": {
      "text/plain": [
       "array([[  2.51272158e+00,   6.31376972e+00,   1.58647454e+01],\n",
       "       [  1.86541816e-01,   3.47978492e-02,   6.49125399e-03],\n",
       "       [  1.38155657e+00,   1.90869855e+00,   2.63697502e+00],\n",
       "       [  5.89272637e-01,   3.47242241e-01,   2.04620351e-01],\n",
       "       [  3.71413331e+00,   1.37947862e+01,   5.12356750e+01],\n",
       "       [  9.76443530e-01,   9.53441967e-01,   9.30982240e-01],\n",
       "       [  9.26502809e-01,   8.58407455e-01,   7.95316918e-01],\n",
       "       [ -5.43566367e-01,   2.95464396e-01,  -1.60604508e-01],\n",
       "       [  2.24964634e-01,   5.06090867e-02,   1.13852547e-02],\n",
       "       [  1.45955147e+00,   2.13029050e+00,   3.10926863e+00],\n",
       "       [ -4.04236969e-01,   1.63407527e-01,  -6.60553634e-02],\n",
       "       [ -1.20418417e+00,   1.45005952e+00,  -1.74613871e+00],\n",
       "       [  2.84801626e+00,   8.11119659e+00,   2.31008198e+01],\n",
       "       [  9.54759312e-01,   9.11565345e-01,   8.70325502e-01],\n",
       "       [ -1.35026847e+00,   1.82322494e+00,  -2.46184314e+00],\n",
       "       [ -1.77206469e+00,   3.14021327e+00,  -5.56466105e+00],\n",
       "       [  3.34174461e+00,   1.11672570e+01,   3.73181210e+01],\n",
       "       [  1.42088376e+00,   2.01891067e+00,   2.86863739e+00],\n",
       "       [  3.13565092e-01,   9.83230668e-02,   3.08306815e-02],\n",
       "       [  3.97304003e+00,   1.57850470e+01,   6.27146237e+01],\n",
       "       [ -1.12879024e+00,   1.27416740e+00,  -1.43826772e+00],\n",
       "       [  3.19434276e+00,   1.02038257e+01,   3.25945166e+01],\n",
       "       [  3.95595433e+00,   1.56495746e+01,   6.19090025e+01],\n",
       "       [  1.41801329e-01,   2.01076168e-02,   2.85128677e-03],\n",
       "       [ -8.03526217e-01,   6.45654381e-01,  -5.18800222e-01],\n",
       "       [  1.55906002e+00,   2.43066815e+00,   3.78955755e+00],\n",
       "       [  3.95726181e+00,   1.56599210e+01,   6.19704072e+01],\n",
       "       [  3.56045949e+00,   1.26768718e+01,   4.51354884e+01],\n",
       "       [ -1.29516787e+00,   1.67745980e+00,  -2.17259203e+00],\n",
       "       [ -1.86692489e+00,   3.48540854e+00,  -6.50699596e+00],\n",
       "       [ -1.49350397e+00,   2.23055412e+00,  -3.33134145e+00],\n",
       "       [  1.74933197e+00,   3.06016236e+00,   5.35323986e+00],\n",
       "       [  7.80440168e-01,   6.09086855e-01,   4.75355847e-01],\n",
       "       [  2.29468910e+00,   5.26559808e+00,   1.20829105e+01],\n",
       "       [  1.27452111e+00,   1.62440405e+00,   2.07033724e+00],\n",
       "       [  8.33257866e-01,   6.94318672e-01,   5.78546495e-01],\n",
       "       [  2.43699801e+00,   5.93895928e+00,   1.44732319e+01],\n",
       "       [  8.51553747e-01,   7.25143784e-01,   6.17498906e-01],\n",
       "       [  2.06508126e+00,   4.26456062e+00,   8.80666424e+00],\n",
       "       [  2.40858559e+00,   5.80128455e+00,   1.39728904e+01],\n",
       "       [  2.00856527e-01,   4.03433446e-02,   8.10322409e-03],\n",
       "       [  6.09691353e-01,   3.71723546e-01,   2.26636631e-01],\n",
       "       [ -3.71571537e-01,   1.38065407e-01,  -5.13011756e-02],\n",
       "       [  6.91004743e-01,   4.77487556e-01,   3.29946166e-01],\n",
       "       [ -8.28810745e-01,   6.86927251e-01,  -5.69332686e-01],\n",
       "       [  1.99998998e+00,   3.99995993e+00,   7.99987981e+00],\n",
       "       [  1.27634775e+00,   1.62906357e+00,   2.07925162e+00],\n",
       "       [  3.93641148e+00,   1.54953354e+01,   6.09960160e+01],\n",
       "       [  1.37639804e+00,   1.89447156e+00,   2.60754693e+00],\n",
       "       [ -1.07724736e+00,   1.16046189e+00,  -1.25010451e+00],\n",
       "       [  3.87116538e+00,   1.49859214e+01,   5.80129803e+01],\n",
       "       [  3.78850914e+00,   1.43528015e+01,   5.43757196e+01],\n",
       "       [  2.45219383e+00,   6.01325456e+00,   1.47456657e+01],\n",
       "       [ -1.25321626e-01,   1.57055100e-02,  -1.96824005e-03],\n",
       "       [ -7.95403612e-01,   6.32666905e-01,  -5.03225542e-01],\n",
       "       [  3.05861813e+00,   9.35514489e+00,   2.86138158e+01],\n",
       "       [ -2.17053048e-02,   4.71120257e-04,  -1.02258088e-05],\n",
       "       [  5.82275920e-01,   3.39045247e-01,   1.97417883e-01],\n",
       "       [  1.71404759e+00,   2.93795914e+00,   5.03580179e+00],\n",
       "       [  1.85026399e+00,   3.42347683e+00,   6.33433589e+00],\n",
       "       [  1.32410318e+00,   1.75324924e+00,   2.32148290e+00],\n",
       "       [  3.96546570e-01,   1.57249183e-01,   6.23566240e-02],\n",
       "       [ -1.38933159e+00,   1.93024227e+00,  -2.68174656e+00],\n",
       "       [ -7.56043972e-01,   5.71602487e-01,  -4.32156615e-01],\n",
       "       [ -7.42821832e-01,   5.51784275e-01,  -4.09877406e-01],\n",
       "       [  7.14065602e-01,   5.09889684e-01,   3.64094684e-01],\n",
       "       [  1.79010323e+00,   3.20446957e+00,   5.73633133e+00],\n",
       "       [  1.54856388e+00,   2.39805009e+00,   3.71353375e+00],\n",
       "       [  1.19624384e+00,   1.43099932e+00,   1.71182412e+00],\n",
       "       [  2.14875963e-03,   4.61716795e-06,   9.92118409e-09],\n",
       "       [  2.89183239e+00,   8.36269455e+00,   2.41835110e+01],\n",
       "       [ -2.41525571e-01,   5.83346016e-02,  -1.40892980e-02],\n",
       "       [ -1.13131271e+00,   1.27986844e+00,  -1.44793142e+00],\n",
       "       [  1.63894354e-01,   2.68613592e-02,   4.40242510e-03],\n",
       "       [  2.98769888e+00,   8.92634462e+00,   2.66692298e+01],\n",
       "       [  3.55702982e-01,   1.26524612e-01,   4.50051816e-02],\n",
       "       [  6.90684077e-01,   4.77044494e-01,   3.29487036e-01],\n",
       "       [  1.22671503e-01,   1.50482978e-02,   1.84599731e-03],\n",
       "       [  1.92166332e+00,   3.69278990e+00,   7.09629888e+00],\n",
       "       [  2.97095263e+00,   8.82655953e+00,   2.62232903e+01],\n",
       "       [ -7.29336243e-01,   5.31931355e-01,  -3.87956816e-01],\n",
       "       [ -1.05984960e+00,   1.12328117e+00,  -1.19050910e+00],\n",
       "       [  1.63510296e+00,   2.67356170e+00,   4.37154865e+00],\n",
       "       [ -6.12400191e-01,   3.75033994e-01,  -2.29670890e-01],\n",
       "       [ -2.87748428e-01,   8.27991577e-02,  -2.38253275e-02],\n",
       "       [ -2.19687633e-01,   4.82626560e-02,  -1.06027086e-02],\n",
       "       [  4.70123376e-01,   2.21015989e-01,   1.03904783e-01],\n",
       "       [  6.45931084e-03,   4.17226965e-05,   2.69499866e-07],\n",
       "       [ -1.21729458e+00,   1.48180610e+00,  -1.80379453e+00],\n",
       "       [  2.62799200e+00,   6.90634193e+00,   1.81498113e+01],\n",
       "       [  3.16554079e+00,   1.00206485e+01,   3.17207715e+01],\n",
       "       [  2.42461481e+00,   5.87875700e+00,   1.42537213e+01],\n",
       "       [ -1.67917190e+00,   2.81961826e+00,  -4.73462375e+00],\n",
       "       [  2.32517575e+00,   5.40644228e+00,   1.25709285e+01],\n",
       "       [ -1.66400903e+00,   2.76892606e+00,  -4.60751797e+00],\n",
       "       [  1.59862448e+00,   2.55560021e+00,   4.08544505e+00],\n",
       "       [ -1.81735085e+00,   3.30276412e+00,  -6.00228119e+00],\n",
       "       [  1.75448028e+00,   3.07820105e+00,   5.40064302e+00],\n",
       "       [  5.60738291e-01,   3.14427431e-01,   1.76311500e-01],\n",
       "       [ -9.04702873e-01,   8.18487289e-01,  -7.40487801e-01]])"
      ]
     },
     "execution_count": 3,
     "metadata": {},
     "output_type": "execute_result"
    }
   ],
   "source": [
    "from sklearn.preprocessing import PolynomialFeatures\n",
    "poly_features = PolynomialFeatures(degree = 3, include_bias = False)\n",
    "X_poly = poly_features.fit_transform(X)\n",
    "X_poly"
   ]
  },
  {
   "cell_type": "code",
   "execution_count": 4,
   "metadata": {
    "collapsed": true
   },
   "outputs": [],
   "source": [
    "# now we can use a linear reg model to fit the x_poly which already contain higher dimension features"
   ]
  },
  {
   "cell_type": "code",
   "execution_count": 5,
   "metadata": {
    "collapsed": true
   },
   "outputs": [],
   "source": [
    "# how do we know whether the model is overfitting or underfitting the data?? corss validation\n",
    "from sklearn.metrics import mean_squared_error\n",
    "from sklearn.model_selection import train_test_split\n",
    "import matplotlib.pyplot as plt\n",
    "def plot_learning_curve(model, X, y):\n",
    "    X_train, X_val, y_train, y_val = train_test_split(X, y, test_size = 0.3)\n",
    "    train_errors, val_errors = [], []\n",
    "    for m in range(len(X)):\n",
    "        model.fit(X_train[:m], y_train[:m])\n",
    "        y_train_predict = model.predict(X_train[:m])\n",
    "        print(y_train_predict)\n",
    "        \n",
    "        y_val_predict = model.predict(X_val[:m])\n",
    "        print(y_val_predict)\n",
    "        train_errors.append(mean_squared_error(y_train_predict, y_train[:m]))\n",
    "        val_errors.append(mean_squared_error(y_val_predict, y_val))\n",
    "    plt.plot(np.sqrt(train_errors), \"r-\", linewidth = 2, label = 'train_error')\n",
    "    plt.plot(np.sqrt(val_errors), \"b*\", linewidth = 2, label = \"val_error\")\n",
    "    plt.xlabel(\"training size\", fontsize = 16)\n",
    "    plt.ylabel(\"error\" , fontsize = 16)\n",
    "    plt.title(\"error with respect to training size\", fontsize = 16)\n",
    "    plt.legend()\n",
    "        "
   ]
  },
  {
   "cell_type": "code",
   "execution_count": 12,
   "metadata": {},
   "outputs": [],
   "source": [
    "# decision boundaries\n",
    "from sklearn import datasets\n",
    "iris = datasets.load_iris()\n",
    "list(iris.keys())\n",
    "X = iris[\"data\"][:,3:] # petal width\n",
    "y = (iris[\"target\"] == 2).astype(np.int)"
   ]
  },
  {
   "cell_type": "code",
   "execution_count": 13,
   "metadata": {},
   "outputs": [
    {
     "data": {
      "text/plain": [
       "LogisticRegression(C=1.0, class_weight=None, dual=False, fit_intercept=True,\n",
       "          intercept_scaling=1, max_iter=100, multi_class='ovr', n_jobs=1,\n",
       "          penalty='l2', random_state=None, solver='liblinear', tol=0.0001,\n",
       "          verbose=0, warm_start=False)"
      ]
     },
     "execution_count": 13,
     "metadata": {},
     "output_type": "execute_result"
    }
   ],
   "source": [
    "from sklearn.linear_model import LogisticRegression\n",
    "log_reg = LogisticRegression()\n",
    "log_reg.fit(X, y)"
   ]
  },
  {
   "cell_type": "code",
   "execution_count": 40,
   "metadata": {},
   "outputs": [
    {
     "data": {
      "image/png": "[encoded data removed]",
      "text/plain": [
       "<matplotlib.figure.Figure at 0x1fb8b352278>"
      ]
     },
     "metadata": {},
     "output_type": "display_data"
    }
   ],
   "source": [
    "# lets look at the modles estimated probabilities for flowers with petal widths varying from 0 o 3cm\n",
    "X_new = np.linspace(0,3,1000).reshape(-1,1)\n",
    "y_proba = log_reg.predict_proba(X_new)\n",
    "plt.plot(X_new, y_proba[:,1], \"g-\", label = \"Iris-Virginica\")\n",
    "plt.plot(X_new, y_proba[:,0], \"b-\", label = \"Not Iris-Virginica\")\n",
    "plt.xlabel(\"pedal width\", fontsize = 20)\n",
    "plt.ylabel(\"Probability\", fontsize = 20)\n",
    "plt.legend()\n",
    "plt.show()"
   ]
  },
  {
   "cell_type": "code",
   "execution_count": 45,
   "metadata": {},
   "outputs": [
    {
     "data": {
      "text/plain": [
       "array([1, 0])"
      ]
     },
     "execution_count": 45,
     "metadata": {},
     "output_type": "execute_result"
    }
   ],
   "source": [
    "# predict_proba and predict function: first predicts the probability of data beloning to certain class\n",
    "# second returns the predicted class given the input using a prediction rule (50% probability here)\n",
    "log_reg.predict([[1.8], [1.4]])"
   ]
  }
 ],
 "metadata": {
  "kernelspec": {
   "display_name": "Python 3",
   "language": "python",
   "name": "python3"
  },
  "language_info": {
   "codemirror_mode": {
    "name": "ipython",
    "version": 3
   },
   "file_extension": ".py",
   "mimetype": "text/x-python",
   "name": "python",
   "nbconvert_exporter": "python",
   "pygments_lexer": "ipython3",
   "version": "3.6.3"
  }
 },
 "nbformat": 4,
 "nbformat_minor": 2
}
